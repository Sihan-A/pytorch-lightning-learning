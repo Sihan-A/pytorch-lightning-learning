{
  "nbformat": 4,
  "nbformat_minor": 0,
  "metadata": {
    "colab": {
      "name": "run_pl_cifar10.ipynb",
      "provenance": [],
      "collapsed_sections": [],
      "authorship_tag": "ABX9TyP6GuGKsP8ukBz0oU1UbxtZ",
      "include_colab_link": true
    },
    "kernelspec": {
      "name": "python3",
      "display_name": "Python 3"
    },
    "language_info": {
      "name": "python"
    },
    "accelerator": "GPU"
  },
  "cells": [
    {
      "cell_type": "markdown",
      "metadata": {
        "id": "view-in-github",
        "colab_type": "text"
      },
      "source": [
        "<a href=\"https://colab.research.google.com/github/Sihan-A/pytorch-lightning-learning/blob/main/Image-Classification-CIFAR10/RUN_CIFAR10_PyTorch_Lightning.ipynb\" target=\"_parent\"><img src=\"https://colab.research.google.com/assets/colab-badge.svg\" alt=\"Open In Colab\"/></a>"
      ]
    },
    {
      "cell_type": "code",
      "execution_count": null,
      "metadata": {
        "id": "54kurW_t-69X"
      },
      "outputs": [],
      "source": [
        "%%capture\n",
        "!pip install pytorch_lightning\n",
        "!git clone https://github.com/Sihan-A/pytorch-lightning-learning.git"
      ]
    },
    {
      "cell_type": "code",
      "source": [
        "import os\n",
        "os.chdir(\"/content/pytorch-lightning-learning/Image-Classification-CIFAR10\")\n",
        "os.mkdir(\"./lightning_logs\")\n",
        "os.mkdir(\"./lightning_logs/resnet\")"
      ],
      "metadata": {
        "id": "H3EPss82_I5n"
      },
      "execution_count": null,
      "outputs": []
    },
    {
      "cell_type": "code",
      "source": [
        "%reload_ext tensorboard\n",
        "%tensorboard --logdir lightning_logs/resnet"
      ],
      "metadata": {
        "id": "XecBTEEwGXZY"
      },
      "execution_count": null,
      "outputs": []
    },
    {
      "cell_type": "code",
      "source": [
        "from main import train_test\n",
        "train_test()"
      ],
      "metadata": {
        "id": "yfL3stLj_W1O"
      },
      "execution_count": null,
      "outputs": []
    }
  ]
}